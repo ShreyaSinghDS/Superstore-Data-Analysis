{
  "nbformat": 4,
  "nbformat_minor": 0,
  "metadata": {
    "colab": {
      "provenance": []
    },
    "kernelspec": {
      "name": "python3",
      "display_name": "Python 3"
    },
    "language_info": {
      "name": "python"
    }
  },
  "cells": [
    {
      "cell_type": "code",
      "execution_count": 24,
      "metadata": {
        "id": "T3MLKeKM5nu1"
      },
      "outputs": [],
      "source": [
        "import pandas as pd\n",
        "import seaborn as sns\n",
        "import matplotlib.pyplot as plt"
      ]
    },
    {
      "cell_type": "code",
      "source": [
        "import pandas as pd\n",
        "pd.set_option('display.float_format', lambda x: '%.3f' % x)"
      ],
      "metadata": {
        "id": "M--l35hE5xWZ"
      },
      "execution_count": 25,
      "outputs": []
    },
    {
      "cell_type": "code",
      "source": [
        "import warnings\n",
        "warnings.filterwarnings('ignore')"
      ],
      "metadata": {
        "id": "I3ls9IxY5xYV"
      },
      "execution_count": 26,
      "outputs": []
    },
    {
      "cell_type": "markdown",
      "source": [
        "## Loading the dataset"
      ],
      "metadata": {
        "id": "VQaoyys89guc"
      }
    },
    {
      "cell_type": "code",
      "source": [
        "data = pd.read_csv('/content/superstore.csv',encoding='ISO-8859-1')"
      ],
      "metadata": {
        "id": "L2ryvGAj5xb-"
      },
      "execution_count": 27,
      "outputs": []
    },
    {
      "cell_type": "markdown",
      "source": [
        "## Exploring the dataset"
      ],
      "metadata": {
        "id": "DARkJSok9tbj"
      }
    },
    {
      "cell_type": "markdown",
      "source": [
        "### Displaying top 5 and bottom 5 rows of the dataset\n"
      ],
      "metadata": {
        "id": "7PPnEYbn94ER"
      }
    },
    {
      "cell_type": "markdown",
      "source": [],
      "metadata": {
        "id": "HEU_HdLh-PQg"
      }
    },
    {
      "cell_type": "code",
      "source": [
        "data.head()"
      ],
      "metadata": {
        "colab": {
          "base_uri": "https://localhost:8080/",
          "height": 577
        },
        "id": "ZY0rFrBl5xeb",
        "outputId": "6b2c9dc8-052a-4c6d-9379-85b0d78144a3"
      },
      "execution_count": 28,
      "outputs": [
        {
          "output_type": "execute_result",
          "data": {
            "text/plain": [
              "   Row ID         Order ID Order Date Ship Date       Ship Mode Customer ID  \\\n",
              "0   42433     AG-2011-2040   1/1/2011  6/1/2011  Standard Class    TB-11280   \n",
              "1   22253    IN-2011-47883   1/1/2011  8/1/2011  Standard Class    JH-15985   \n",
              "2   48883     HU-2011-1220   1/1/2011  5/1/2011    Second Class      AT-735   \n",
              "3   11731  IT-2011-3647632   1/1/2011  5/1/2011    Second Class    EM-14140   \n",
              "4   22255    IN-2011-47883   1/1/2011  8/1/2011  Standard Class    JH-15985   \n",
              "\n",
              "     Customer Name      Segment         City            State  ...  \\\n",
              "0  Toby Braunhardt     Consumer  Constantine      Constantine  ...   \n",
              "1      Joseph Holt     Consumer  Wagga Wagga  New South Wales  ...   \n",
              "2    Annie Thurman     Consumer     Budapest         Budapest  ...   \n",
              "3     Eugene Moren  Home Office    Stockholm        Stockholm  ...   \n",
              "4      Joseph Holt     Consumer  Wagga Wagga  New South Wales  ...   \n",
              "\n",
              "         Product ID         Category Sub-Category  \\\n",
              "0  OFF-TEN-10000025  Office Supplies      Storage   \n",
              "1   OFF-SU-10000618  Office Supplies     Supplies   \n",
              "2  OFF-TEN-10001585  Office Supplies      Storage   \n",
              "3   OFF-PA-10001492  Office Supplies        Paper   \n",
              "4   FUR-FU-10003447        Furniture  Furnishings   \n",
              "\n",
              "                  Product Name   Sales Quantity Discount  Profit  \\\n",
              "0          Tenex Lockers, Blue 408.300    2.000    0.000 106.140   \n",
              "1     Acme Trimmer, High Speed 120.366    3.000    0.100  36.036   \n",
              "2      Tenex Box, Single Width  66.120    4.000    0.000  29.640   \n",
              "3  Enermax Note Cards, Premium  44.865    3.000    0.500 -26.055   \n",
              "4   Eldon Light Bulb, Duo Pack 113.670    5.000    0.100  37.770   \n",
              "\n",
              "   Shipping Cost  Order Priority  \n",
              "0         35.460          Medium  \n",
              "1          9.720          Medium  \n",
              "2          8.170            High  \n",
              "3          4.820            High  \n",
              "4          4.700          Medium  \n",
              "\n",
              "[5 rows x 24 columns]"
            ],
            "text/html": [
              "\n",
              "  <div id=\"df-db07b6c7-5289-42cb-9af4-adc7ed605558\">\n",
              "    <div class=\"colab-df-container\">\n",
              "      <div>\n",
              "<style scoped>\n",
              "    .dataframe tbody tr th:only-of-type {\n",
              "        vertical-align: middle;\n",
              "    }\n",
              "\n",
              "    .dataframe tbody tr th {\n",
              "        vertical-align: top;\n",
              "    }\n",
              "\n",
              "    .dataframe thead th {\n",
              "        text-align: right;\n",
              "    }\n",
              "</style>\n",
              "<table border=\"1\" class=\"dataframe\">\n",
              "  <thead>\n",
              "    <tr style=\"text-align: right;\">\n",
              "      <th></th>\n",
              "      <th>Row ID</th>\n",
              "      <th>Order ID</th>\n",
              "      <th>Order Date</th>\n",
              "      <th>Ship Date</th>\n",
              "      <th>Ship Mode</th>\n",
              "      <th>Customer ID</th>\n",
              "      <th>Customer Name</th>\n",
              "      <th>Segment</th>\n",
              "      <th>City</th>\n",
              "      <th>State</th>\n",
              "      <th>...</th>\n",
              "      <th>Product ID</th>\n",
              "      <th>Category</th>\n",
              "      <th>Sub-Category</th>\n",
              "      <th>Product Name</th>\n",
              "      <th>Sales</th>\n",
              "      <th>Quantity</th>\n",
              "      <th>Discount</th>\n",
              "      <th>Profit</th>\n",
              "      <th>Shipping Cost</th>\n",
              "      <th>Order Priority</th>\n",
              "    </tr>\n",
              "  </thead>\n",
              "  <tbody>\n",
              "    <tr>\n",
              "      <th>0</th>\n",
              "      <td>42433</td>\n",
              "      <td>AG-2011-2040</td>\n",
              "      <td>1/1/2011</td>\n",
              "      <td>6/1/2011</td>\n",
              "      <td>Standard Class</td>\n",
              "      <td>TB-11280</td>\n",
              "      <td>Toby Braunhardt</td>\n",
              "      <td>Consumer</td>\n",
              "      <td>Constantine</td>\n",
              "      <td>Constantine</td>\n",
              "      <td>...</td>\n",
              "      <td>OFF-TEN-10000025</td>\n",
              "      <td>Office Supplies</td>\n",
              "      <td>Storage</td>\n",
              "      <td>Tenex Lockers, Blue</td>\n",
              "      <td>408.300</td>\n",
              "      <td>2.000</td>\n",
              "      <td>0.000</td>\n",
              "      <td>106.140</td>\n",
              "      <td>35.460</td>\n",
              "      <td>Medium</td>\n",
              "    </tr>\n",
              "    <tr>\n",
              "      <th>1</th>\n",
              "      <td>22253</td>\n",
              "      <td>IN-2011-47883</td>\n",
              "      <td>1/1/2011</td>\n",
              "      <td>8/1/2011</td>\n",
              "      <td>Standard Class</td>\n",
              "      <td>JH-15985</td>\n",
              "      <td>Joseph Holt</td>\n",
              "      <td>Consumer</td>\n",
              "      <td>Wagga Wagga</td>\n",
              "      <td>New South Wales</td>\n",
              "      <td>...</td>\n",
              "      <td>OFF-SU-10000618</td>\n",
              "      <td>Office Supplies</td>\n",
              "      <td>Supplies</td>\n",
              "      <td>Acme Trimmer, High Speed</td>\n",
              "      <td>120.366</td>\n",
              "      <td>3.000</td>\n",
              "      <td>0.100</td>\n",
              "      <td>36.036</td>\n",
              "      <td>9.720</td>\n",
              "      <td>Medium</td>\n",
              "    </tr>\n",
              "    <tr>\n",
              "      <th>2</th>\n",
              "      <td>48883</td>\n",
              "      <td>HU-2011-1220</td>\n",
              "      <td>1/1/2011</td>\n",
              "      <td>5/1/2011</td>\n",
              "      <td>Second Class</td>\n",
              "      <td>AT-735</td>\n",
              "      <td>Annie Thurman</td>\n",
              "      <td>Consumer</td>\n",
              "      <td>Budapest</td>\n",
              "      <td>Budapest</td>\n",
              "      <td>...</td>\n",
              "      <td>OFF-TEN-10001585</td>\n",
              "      <td>Office Supplies</td>\n",
              "      <td>Storage</td>\n",
              "      <td>Tenex Box, Single Width</td>\n",
              "      <td>66.120</td>\n",
              "      <td>4.000</td>\n",
              "      <td>0.000</td>\n",
              "      <td>29.640</td>\n",
              "      <td>8.170</td>\n",
              "      <td>High</td>\n",
              "    </tr>\n",
              "    <tr>\n",
              "      <th>3</th>\n",
              "      <td>11731</td>\n",
              "      <td>IT-2011-3647632</td>\n",
              "      <td>1/1/2011</td>\n",
              "      <td>5/1/2011</td>\n",
              "      <td>Second Class</td>\n",
              "      <td>EM-14140</td>\n",
              "      <td>Eugene Moren</td>\n",
              "      <td>Home Office</td>\n",
              "      <td>Stockholm</td>\n",
              "      <td>Stockholm</td>\n",
              "      <td>...</td>\n",
              "      <td>OFF-PA-10001492</td>\n",
              "      <td>Office Supplies</td>\n",
              "      <td>Paper</td>\n",
              "      <td>Enermax Note Cards, Premium</td>\n",
              "      <td>44.865</td>\n",
              "      <td>3.000</td>\n",
              "      <td>0.500</td>\n",
              "      <td>-26.055</td>\n",
              "      <td>4.820</td>\n",
              "      <td>High</td>\n",
              "    </tr>\n",
              "    <tr>\n",
              "      <th>4</th>\n",
              "      <td>22255</td>\n",
              "      <td>IN-2011-47883</td>\n",
              "      <td>1/1/2011</td>\n",
              "      <td>8/1/2011</td>\n",
              "      <td>Standard Class</td>\n",
              "      <td>JH-15985</td>\n",
              "      <td>Joseph Holt</td>\n",
              "      <td>Consumer</td>\n",
              "      <td>Wagga Wagga</td>\n",
              "      <td>New South Wales</td>\n",
              "      <td>...</td>\n",
              "      <td>FUR-FU-10003447</td>\n",
              "      <td>Furniture</td>\n",
              "      <td>Furnishings</td>\n",
              "      <td>Eldon Light Bulb, Duo Pack</td>\n",
              "      <td>113.670</td>\n",
              "      <td>5.000</td>\n",
              "      <td>0.100</td>\n",
              "      <td>37.770</td>\n",
              "      <td>4.700</td>\n",
              "      <td>Medium</td>\n",
              "    </tr>\n",
              "  </tbody>\n",
              "</table>\n",
              "<p>5 rows × 24 columns</p>\n",
              "</div>\n",
              "      <button class=\"colab-df-convert\" onclick=\"convertToInteractive('df-db07b6c7-5289-42cb-9af4-adc7ed605558')\"\n",
              "              title=\"Convert this dataframe to an interactive table.\"\n",
              "              style=\"display:none;\">\n",
              "        \n",
              "  <svg xmlns=\"http://www.w3.org/2000/svg\" height=\"24px\"viewBox=\"0 0 24 24\"\n",
              "       width=\"24px\">\n",
              "    <path d=\"M0 0h24v24H0V0z\" fill=\"none\"/>\n",
              "    <path d=\"M18.56 5.44l.94 2.06.94-2.06 2.06-.94-2.06-.94-.94-2.06-.94 2.06-2.06.94zm-11 1L8.5 8.5l.94-2.06 2.06-.94-2.06-.94L8.5 2.5l-.94 2.06-2.06.94zm10 10l.94 2.06.94-2.06 2.06-.94-2.06-.94-.94-2.06-.94 2.06-2.06.94z\"/><path d=\"M17.41 7.96l-1.37-1.37c-.4-.4-.92-.59-1.43-.59-.52 0-1.04.2-1.43.59L10.3 9.45l-7.72 7.72c-.78.78-.78 2.05 0 2.83L4 21.41c.39.39.9.59 1.41.59.51 0 1.02-.2 1.41-.59l7.78-7.78 2.81-2.81c.8-.78.8-2.07 0-2.86zM5.41 20L4 18.59l7.72-7.72 1.47 1.35L5.41 20z\"/>\n",
              "  </svg>\n",
              "      </button>\n",
              "      \n",
              "  <style>\n",
              "    .colab-df-container {\n",
              "      display:flex;\n",
              "      flex-wrap:wrap;\n",
              "      gap: 12px;\n",
              "    }\n",
              "\n",
              "    .colab-df-convert {\n",
              "      background-color: #E8F0FE;\n",
              "      border: none;\n",
              "      border-radius: 50%;\n",
              "      cursor: pointer;\n",
              "      display: none;\n",
              "      fill: #1967D2;\n",
              "      height: 32px;\n",
              "      padding: 0 0 0 0;\n",
              "      width: 32px;\n",
              "    }\n",
              "\n",
              "    .colab-df-convert:hover {\n",
              "      background-color: #E2EBFA;\n",
              "      box-shadow: 0px 1px 2px rgba(60, 64, 67, 0.3), 0px 1px 3px 1px rgba(60, 64, 67, 0.15);\n",
              "      fill: #174EA6;\n",
              "    }\n",
              "\n",
              "    [theme=dark] .colab-df-convert {\n",
              "      background-color: #3B4455;\n",
              "      fill: #D2E3FC;\n",
              "    }\n",
              "\n",
              "    [theme=dark] .colab-df-convert:hover {\n",
              "      background-color: #434B5C;\n",
              "      box-shadow: 0px 1px 3px 1px rgba(0, 0, 0, 0.15);\n",
              "      filter: drop-shadow(0px 1px 2px rgba(0, 0, 0, 0.3));\n",
              "      fill: #FFFFFF;\n",
              "    }\n",
              "  </style>\n",
              "\n",
              "      <script>\n",
              "        const buttonEl =\n",
              "          document.querySelector('#df-db07b6c7-5289-42cb-9af4-adc7ed605558 button.colab-df-convert');\n",
              "        buttonEl.style.display =\n",
              "          google.colab.kernel.accessAllowed ? 'block' : 'none';\n",
              "\n",
              "        async function convertToInteractive(key) {\n",
              "          const element = document.querySelector('#df-db07b6c7-5289-42cb-9af4-adc7ed605558');\n",
              "          const dataTable =\n",
              "            await google.colab.kernel.invokeFunction('convertToInteractive',\n",
              "                                                     [key], {});\n",
              "          if (!dataTable) return;\n",
              "\n",
              "          const docLinkHtml = 'Like what you see? Visit the ' +\n",
              "            '<a target=\"_blank\" href=https://colab.research.google.com/notebooks/data_table.ipynb>data table notebook</a>'\n",
              "            + ' to learn more about interactive tables.';\n",
              "          element.innerHTML = '';\n",
              "          dataTable['output_type'] = 'display_data';\n",
              "          await google.colab.output.renderOutput(dataTable, element);\n",
              "          const docLink = document.createElement('div');\n",
              "          docLink.innerHTML = docLinkHtml;\n",
              "          element.appendChild(docLink);\n",
              "        }\n",
              "      </script>\n",
              "    </div>\n",
              "  </div>\n",
              "  "
            ]
          },
          "metadata": {},
          "execution_count": 28
        }
      ]
    },
    {
      "cell_type": "code",
      "source": [
        "data.tail()"
      ],
      "metadata": {
        "colab": {
          "base_uri": "https://localhost:8080/",
          "height": 525
        },
        "id": "rmpyZMb-5xhg",
        "outputId": "83de229f-d743-4361-a041-2b78b8bd77a7"
      },
      "execution_count": 29,
      "outputs": [
        {
          "output_type": "execute_result",
          "data": {
            "text/plain": [
              "       Row ID        Order ID  Order Date Ship Date       Ship Mode  \\\n",
              "49158   37047  CA-2011-145800  30-05-2011  5/6/2011  Standard Class   \n",
              "49159    5270  MX-2011-146248  30-05-2011  5/6/2011  Standard Class   \n",
              "49160   27550   IN-2011-12288  30-05-2011  4/6/2011  Standard Class   \n",
              "49161     551  MX-2011-154116  30-05-2011  3/6/2011    Second Class   \n",
              "49162   30944   IN-2011-86642  30-05-2011  4/6/2011  Standard Class   \n",
              "\n",
              "      Customer ID    Customer Name   Segment           City           State  \\\n",
              "49158    SS-20410  Shahid Shariari  Consumer  Buffalo Grove        Illinois   \n",
              "49159    LC-17050     Liz Carlisle  Consumer    São Gonçalo  Rio de Janeiro   \n",
              "49160    JS-15880   John Stevenson  Consumer       Vadodara         Gujarat   \n",
              "49161    PW-19240     Pierre Wener  Consumer       Saltillo        Coahuila   \n",
              "49162         NaN              NaN       NaN            NaN             NaN   \n",
              "\n",
              "       ...       Product ID    Category Sub-Category  \\\n",
              "49158  ...  FUR-TA-10001539   Furniture       Tables   \n",
              "49159  ...  FUR-BO-10004980   Furniture    Bookcases   \n",
              "49160  ...  TEC-CO-10003982  Technology      Copiers   \n",
              "49161  ...  FUR-BO-10002352   Furniture    Bookcases   \n",
              "49162  ...              NaN         NaN          NaN   \n",
              "\n",
              "                                   Product Name   Sales Quantity Discount  \\\n",
              "49158  Chromcraft Rectangular Conference Tables 355.455    3.000    0.500   \n",
              "49159           Bush Library with Doors, Mobile 489.120    2.000    0.000   \n",
              "49160                        HP Ink, High-Speed 380.700    3.000    0.000   \n",
              "49161              Ikea 3-Shelf Cabinet, Mobile 231.936    3.000    0.200   \n",
              "49162                                       NaN     NaN      NaN      NaN   \n",
              "\n",
              "        Profit  Shipping Cost  Order Priority  \n",
              "49158 -184.837         34.690          Medium  \n",
              "49159   29.320         34.390          Medium  \n",
              "49160  163.620         28.000          Medium  \n",
              "49161   23.136         18.980          Medium  \n",
              "49162      NaN            NaN             NaN  \n",
              "\n",
              "[5 rows x 24 columns]"
            ],
            "text/html": [
              "\n",
              "  <div id=\"df-1016c0f8-9ee0-457e-b275-37d3ca998efa\">\n",
              "    <div class=\"colab-df-container\">\n",
              "      <div>\n",
              "<style scoped>\n",
              "    .dataframe tbody tr th:only-of-type {\n",
              "        vertical-align: middle;\n",
              "    }\n",
              "\n",
              "    .dataframe tbody tr th {\n",
              "        vertical-align: top;\n",
              "    }\n",
              "\n",
              "    .dataframe thead th {\n",
              "        text-align: right;\n",
              "    }\n",
              "</style>\n",
              "<table border=\"1\" class=\"dataframe\">\n",
              "  <thead>\n",
              "    <tr style=\"text-align: right;\">\n",
              "      <th></th>\n",
              "      <th>Row ID</th>\n",
              "      <th>Order ID</th>\n",
              "      <th>Order Date</th>\n",
              "      <th>Ship Date</th>\n",
              "      <th>Ship Mode</th>\n",
              "      <th>Customer ID</th>\n",
              "      <th>Customer Name</th>\n",
              "      <th>Segment</th>\n",
              "      <th>City</th>\n",
              "      <th>State</th>\n",
              "      <th>...</th>\n",
              "      <th>Product ID</th>\n",
              "      <th>Category</th>\n",
              "      <th>Sub-Category</th>\n",
              "      <th>Product Name</th>\n",
              "      <th>Sales</th>\n",
              "      <th>Quantity</th>\n",
              "      <th>Discount</th>\n",
              "      <th>Profit</th>\n",
              "      <th>Shipping Cost</th>\n",
              "      <th>Order Priority</th>\n",
              "    </tr>\n",
              "  </thead>\n",
              "  <tbody>\n",
              "    <tr>\n",
              "      <th>49158</th>\n",
              "      <td>37047</td>\n",
              "      <td>CA-2011-145800</td>\n",
              "      <td>30-05-2011</td>\n",
              "      <td>5/6/2011</td>\n",
              "      <td>Standard Class</td>\n",
              "      <td>SS-20410</td>\n",
              "      <td>Shahid Shariari</td>\n",
              "      <td>Consumer</td>\n",
              "      <td>Buffalo Grove</td>\n",
              "      <td>Illinois</td>\n",
              "      <td>...</td>\n",
              "      <td>FUR-TA-10001539</td>\n",
              "      <td>Furniture</td>\n",
              "      <td>Tables</td>\n",
              "      <td>Chromcraft Rectangular Conference Tables</td>\n",
              "      <td>355.455</td>\n",
              "      <td>3.000</td>\n",
              "      <td>0.500</td>\n",
              "      <td>-184.837</td>\n",
              "      <td>34.690</td>\n",
              "      <td>Medium</td>\n",
              "    </tr>\n",
              "    <tr>\n",
              "      <th>49159</th>\n",
              "      <td>5270</td>\n",
              "      <td>MX-2011-146248</td>\n",
              "      <td>30-05-2011</td>\n",
              "      <td>5/6/2011</td>\n",
              "      <td>Standard Class</td>\n",
              "      <td>LC-17050</td>\n",
              "      <td>Liz Carlisle</td>\n",
              "      <td>Consumer</td>\n",
              "      <td>São Gonçalo</td>\n",
              "      <td>Rio de Janeiro</td>\n",
              "      <td>...</td>\n",
              "      <td>FUR-BO-10004980</td>\n",
              "      <td>Furniture</td>\n",
              "      <td>Bookcases</td>\n",
              "      <td>Bush Library with Doors, Mobile</td>\n",
              "      <td>489.120</td>\n",
              "      <td>2.000</td>\n",
              "      <td>0.000</td>\n",
              "      <td>29.320</td>\n",
              "      <td>34.390</td>\n",
              "      <td>Medium</td>\n",
              "    </tr>\n",
              "    <tr>\n",
              "      <th>49160</th>\n",
              "      <td>27550</td>\n",
              "      <td>IN-2011-12288</td>\n",
              "      <td>30-05-2011</td>\n",
              "      <td>4/6/2011</td>\n",
              "      <td>Standard Class</td>\n",
              "      <td>JS-15880</td>\n",
              "      <td>John Stevenson</td>\n",
              "      <td>Consumer</td>\n",
              "      <td>Vadodara</td>\n",
              "      <td>Gujarat</td>\n",
              "      <td>...</td>\n",
              "      <td>TEC-CO-10003982</td>\n",
              "      <td>Technology</td>\n",
              "      <td>Copiers</td>\n",
              "      <td>HP Ink, High-Speed</td>\n",
              "      <td>380.700</td>\n",
              "      <td>3.000</td>\n",
              "      <td>0.000</td>\n",
              "      <td>163.620</td>\n",
              "      <td>28.000</td>\n",
              "      <td>Medium</td>\n",
              "    </tr>\n",
              "    <tr>\n",
              "      <th>49161</th>\n",
              "      <td>551</td>\n",
              "      <td>MX-2011-154116</td>\n",
              "      <td>30-05-2011</td>\n",
              "      <td>3/6/2011</td>\n",
              "      <td>Second Class</td>\n",
              "      <td>PW-19240</td>\n",
              "      <td>Pierre Wener</td>\n",
              "      <td>Consumer</td>\n",
              "      <td>Saltillo</td>\n",
              "      <td>Coahuila</td>\n",
              "      <td>...</td>\n",
              "      <td>FUR-BO-10002352</td>\n",
              "      <td>Furniture</td>\n",
              "      <td>Bookcases</td>\n",
              "      <td>Ikea 3-Shelf Cabinet, Mobile</td>\n",
              "      <td>231.936</td>\n",
              "      <td>3.000</td>\n",
              "      <td>0.200</td>\n",
              "      <td>23.136</td>\n",
              "      <td>18.980</td>\n",
              "      <td>Medium</td>\n",
              "    </tr>\n",
              "    <tr>\n",
              "      <th>49162</th>\n",
              "      <td>30944</td>\n",
              "      <td>IN-2011-86642</td>\n",
              "      <td>30-05-2011</td>\n",
              "      <td>4/6/2011</td>\n",
              "      <td>Standard Class</td>\n",
              "      <td>NaN</td>\n",
              "      <td>NaN</td>\n",
              "      <td>NaN</td>\n",
              "      <td>NaN</td>\n",
              "      <td>NaN</td>\n",
              "      <td>...</td>\n",
              "      <td>NaN</td>\n",
              "      <td>NaN</td>\n",
              "      <td>NaN</td>\n",
              "      <td>NaN</td>\n",
              "      <td>NaN</td>\n",
              "      <td>NaN</td>\n",
              "      <td>NaN</td>\n",
              "      <td>NaN</td>\n",
              "      <td>NaN</td>\n",
              "      <td>NaN</td>\n",
              "    </tr>\n",
              "  </tbody>\n",
              "</table>\n",
              "<p>5 rows × 24 columns</p>\n",
              "</div>\n",
              "      <button class=\"colab-df-convert\" onclick=\"convertToInteractive('df-1016c0f8-9ee0-457e-b275-37d3ca998efa')\"\n",
              "              title=\"Convert this dataframe to an interactive table.\"\n",
              "              style=\"display:none;\">\n",
              "        \n",
              "  <svg xmlns=\"http://www.w3.org/2000/svg\" height=\"24px\"viewBox=\"0 0 24 24\"\n",
              "       width=\"24px\">\n",
              "    <path d=\"M0 0h24v24H0V0z\" fill=\"none\"/>\n",
              "    <path d=\"M18.56 5.44l.94 2.06.94-2.06 2.06-.94-2.06-.94-.94-2.06-.94 2.06-2.06.94zm-11 1L8.5 8.5l.94-2.06 2.06-.94-2.06-.94L8.5 2.5l-.94 2.06-2.06.94zm10 10l.94 2.06.94-2.06 2.06-.94-2.06-.94-.94-2.06-.94 2.06-2.06.94z\"/><path d=\"M17.41 7.96l-1.37-1.37c-.4-.4-.92-.59-1.43-.59-.52 0-1.04.2-1.43.59L10.3 9.45l-7.72 7.72c-.78.78-.78 2.05 0 2.83L4 21.41c.39.39.9.59 1.41.59.51 0 1.02-.2 1.41-.59l7.78-7.78 2.81-2.81c.8-.78.8-2.07 0-2.86zM5.41 20L4 18.59l7.72-7.72 1.47 1.35L5.41 20z\"/>\n",
              "  </svg>\n",
              "      </button>\n",
              "      \n",
              "  <style>\n",
              "    .colab-df-container {\n",
              "      display:flex;\n",
              "      flex-wrap:wrap;\n",
              "      gap: 12px;\n",
              "    }\n",
              "\n",
              "    .colab-df-convert {\n",
              "      background-color: #E8F0FE;\n",
              "      border: none;\n",
              "      border-radius: 50%;\n",
              "      cursor: pointer;\n",
              "      display: none;\n",
              "      fill: #1967D2;\n",
              "      height: 32px;\n",
              "      padding: 0 0 0 0;\n",
              "      width: 32px;\n",
              "    }\n",
              "\n",
              "    .colab-df-convert:hover {\n",
              "      background-color: #E2EBFA;\n",
              "      box-shadow: 0px 1px 2px rgba(60, 64, 67, 0.3), 0px 1px 3px 1px rgba(60, 64, 67, 0.15);\n",
              "      fill: #174EA6;\n",
              "    }\n",
              "\n",
              "    [theme=dark] .colab-df-convert {\n",
              "      background-color: #3B4455;\n",
              "      fill: #D2E3FC;\n",
              "    }\n",
              "\n",
              "    [theme=dark] .colab-df-convert:hover {\n",
              "      background-color: #434B5C;\n",
              "      box-shadow: 0px 1px 3px 1px rgba(0, 0, 0, 0.15);\n",
              "      filter: drop-shadow(0px 1px 2px rgba(0, 0, 0, 0.3));\n",
              "      fill: #FFFFFF;\n",
              "    }\n",
              "  </style>\n",
              "\n",
              "      <script>\n",
              "        const buttonEl =\n",
              "          document.querySelector('#df-1016c0f8-9ee0-457e-b275-37d3ca998efa button.colab-df-convert');\n",
              "        buttonEl.style.display =\n",
              "          google.colab.kernel.accessAllowed ? 'block' : 'none';\n",
              "\n",
              "        async function convertToInteractive(key) {\n",
              "          const element = document.querySelector('#df-1016c0f8-9ee0-457e-b275-37d3ca998efa');\n",
              "          const dataTable =\n",
              "            await google.colab.kernel.invokeFunction('convertToInteractive',\n",
              "                                                     [key], {});\n",
              "          if (!dataTable) return;\n",
              "\n",
              "          const docLinkHtml = 'Like what you see? Visit the ' +\n",
              "            '<a target=\"_blank\" href=https://colab.research.google.com/notebooks/data_table.ipynb>data table notebook</a>'\n",
              "            + ' to learn more about interactive tables.';\n",
              "          element.innerHTML = '';\n",
              "          dataTable['output_type'] = 'display_data';\n",
              "          await google.colab.output.renderOutput(dataTable, element);\n",
              "          const docLink = document.createElement('div');\n",
              "          docLink.innerHTML = docLinkHtml;\n",
              "          element.appendChild(docLink);\n",
              "        }\n",
              "      </script>\n",
              "    </div>\n",
              "  </div>\n",
              "  "
            ]
          },
          "metadata": {},
          "execution_count": 29
        }
      ]
    },
    {
      "cell_type": "markdown",
      "source": [
        "### Get Information About Our Dataset Like Total Number Rows, Total Number of Columns, Datatypes of Each Column And Memory Requirement"
      ],
      "metadata": {
        "id": "2mA06gEC_NCn"
      }
    },
    {
      "cell_type": "code",
      "source": [
        "data.info()"
      ],
      "metadata": {
        "colab": {
          "base_uri": "https://localhost:8080/"
        },
        "id": "o0Zsjpcq-tN-",
        "outputId": "e4f6008f-a3f2-4108-f7f7-5c6607aa5e37"
      },
      "execution_count": 30,
      "outputs": [
        {
          "output_type": "stream",
          "name": "stdout",
          "text": [
            "<class 'pandas.core.frame.DataFrame'>\n",
            "RangeIndex: 49163 entries, 0 to 49162\n",
            "Data columns (total 24 columns):\n",
            " #   Column          Non-Null Count  Dtype  \n",
            "---  ------          --------------  -----  \n",
            " 0   Row ID          49163 non-null  int64  \n",
            " 1   Order ID        49163 non-null  object \n",
            " 2   Order Date      49163 non-null  object \n",
            " 3   Ship Date       49163 non-null  object \n",
            " 4   Ship Mode       49163 non-null  object \n",
            " 5   Customer ID     49162 non-null  object \n",
            " 6   Customer Name   49162 non-null  object \n",
            " 7   Segment         49162 non-null  object \n",
            " 8   City            49162 non-null  object \n",
            " 9   State           49162 non-null  object \n",
            " 10  Country         49162 non-null  object \n",
            " 11  Postal Code     9567 non-null   float64\n",
            " 12  Market          49162 non-null  object \n",
            " 13  Region          49162 non-null  object \n",
            " 14  Product ID      49162 non-null  object \n",
            " 15  Category        49162 non-null  object \n",
            " 16  Sub-Category    49162 non-null  object \n",
            " 17  Product Name    49162 non-null  object \n",
            " 18  Sales           49162 non-null  float64\n",
            " 19  Quantity        49162 non-null  float64\n",
            " 20  Discount        49162 non-null  float64\n",
            " 21  Profit          49162 non-null  float64\n",
            " 22  Shipping Cost   49162 non-null  float64\n",
            " 23  Order Priority  49162 non-null  object \n",
            "dtypes: float64(6), int64(1), object(17)\n",
            "memory usage: 9.0+ MB\n"
          ]
        }
      ]
    },
    {
      "cell_type": "code",
      "source": [
        "data.shape"
      ],
      "metadata": {
        "colab": {
          "base_uri": "https://localhost:8080/"
        },
        "id": "HTQIUAqL5xjX",
        "outputId": "fcce7589-8afe-4178-9359-b8d8c05b836d"
      },
      "execution_count": 31,
      "outputs": [
        {
          "output_type": "execute_result",
          "data": {
            "text/plain": [
              "(49163, 24)"
            ]
          },
          "metadata": {},
          "execution_count": 31
        }
      ]
    },
    {
      "cell_type": "markdown",
      "source": [
        "### Checking null values in our dataset"
      ],
      "metadata": {
        "id": "DS66rCiBBuPe"
      }
    },
    {
      "cell_type": "code",
      "source": [
        "data.isnull().sum()"
      ],
      "metadata": {
        "colab": {
          "base_uri": "https://localhost:8080/"
        },
        "id": "8kS8uxsS5xmu",
        "outputId": "45f5abad-282f-4dc6-d292-5e894447185c"
      },
      "execution_count": 32,
      "outputs": [
        {
          "output_type": "execute_result",
          "data": {
            "text/plain": [
              "Row ID                0\n",
              "Order ID              0\n",
              "Order Date            0\n",
              "Ship Date             0\n",
              "Ship Mode             0\n",
              "Customer ID           1\n",
              "Customer Name         1\n",
              "Segment               1\n",
              "City                  1\n",
              "State                 1\n",
              "Country               1\n",
              "Postal Code       39596\n",
              "Market                1\n",
              "Region                1\n",
              "Product ID            1\n",
              "Category              1\n",
              "Sub-Category          1\n",
              "Product Name          1\n",
              "Sales                 1\n",
              "Quantity              1\n",
              "Discount              1\n",
              "Profit                1\n",
              "Shipping Cost         1\n",
              "Order Priority        1\n",
              "dtype: int64"
            ]
          },
          "metadata": {},
          "execution_count": 32
        }
      ]
    },
    {
      "cell_type": "markdown",
      "source": [
        "### Checking For Duplicate Data and Drop Them if any"
      ],
      "metadata": {
        "id": "DC7phs9PB5gB"
      }
    },
    {
      "cell_type": "code",
      "source": [
        "data.duplicated().any()\n"
      ],
      "metadata": {
        "colab": {
          "base_uri": "https://localhost:8080/"
        },
        "id": "EwVjenLk5xol",
        "outputId": "248b1aa4-a870-461f-df02-3bf5eddbf1ed"
      },
      "execution_count": 33,
      "outputs": [
        {
          "output_type": "execute_result",
          "data": {
            "text/plain": [
              "False"
            ]
          },
          "metadata": {},
          "execution_count": 33
        }
      ]
    },
    {
      "cell_type": "markdown",
      "source": [
        "### Get Overall Statistics About The Dataset"
      ],
      "metadata": {
        "id": "1itPf2gpCI2H"
      }
    },
    {
      "cell_type": "code",
      "source": [
        "data.describe()"
      ],
      "metadata": {
        "colab": {
          "base_uri": "https://localhost:8080/",
          "height": 300
        },
        "id": "Zuf9u65B5xtZ",
        "outputId": "ccc1970a-e600-4ffd-fca0-b772f60ba2b5"
      },
      "execution_count": 34,
      "outputs": [
        {
          "output_type": "execute_result",
          "data": {
            "text/plain": [
              "         Row ID  Postal Code     Sales  Quantity  Discount    Profit  \\\n",
              "count 49163.000     9567.000 49162.000 49162.000 49162.000 49162.000   \n",
              "mean  25653.202    55159.795   246.948     3.474     0.143    28.799   \n",
              "std   14826.401    32084.681   490.631     2.279     0.212   175.263   \n",
              "min       1.000     1040.000     0.444     1.000     0.000 -6599.978   \n",
              "25%   12795.500    22980.000    30.720     2.000     0.000     0.000   \n",
              "50%   25643.000    56560.000    85.246     3.000     0.000     9.200   \n",
              "75%   38512.500    90008.000   251.053     5.000     0.200    36.812   \n",
              "max   51290.000    99301.000 22638.480    14.000     0.850  8399.976   \n",
              "\n",
              "       Shipping Cost  \n",
              "count      49162.000  \n",
              "mean          26.337  \n",
              "std           57.066  \n",
              "min            0.000  \n",
              "25%            2.610  \n",
              "50%            7.790  \n",
              "75%           24.490  \n",
              "max          923.630  "
            ],
            "text/html": [
              "\n",
              "  <div id=\"df-9e8d413f-9a71-40f8-ae90-af9f907f0924\">\n",
              "    <div class=\"colab-df-container\">\n",
              "      <div>\n",
              "<style scoped>\n",
              "    .dataframe tbody tr th:only-of-type {\n",
              "        vertical-align: middle;\n",
              "    }\n",
              "\n",
              "    .dataframe tbody tr th {\n",
              "        vertical-align: top;\n",
              "    }\n",
              "\n",
              "    .dataframe thead th {\n",
              "        text-align: right;\n",
              "    }\n",
              "</style>\n",
              "<table border=\"1\" class=\"dataframe\">\n",
              "  <thead>\n",
              "    <tr style=\"text-align: right;\">\n",
              "      <th></th>\n",
              "      <th>Row ID</th>\n",
              "      <th>Postal Code</th>\n",
              "      <th>Sales</th>\n",
              "      <th>Quantity</th>\n",
              "      <th>Discount</th>\n",
              "      <th>Profit</th>\n",
              "      <th>Shipping Cost</th>\n",
              "    </tr>\n",
              "  </thead>\n",
              "  <tbody>\n",
              "    <tr>\n",
              "      <th>count</th>\n",
              "      <td>49163.000</td>\n",
              "      <td>9567.000</td>\n",
              "      <td>49162.000</td>\n",
              "      <td>49162.000</td>\n",
              "      <td>49162.000</td>\n",
              "      <td>49162.000</td>\n",
              "      <td>49162.000</td>\n",
              "    </tr>\n",
              "    <tr>\n",
              "      <th>mean</th>\n",
              "      <td>25653.202</td>\n",
              "      <td>55159.795</td>\n",
              "      <td>246.948</td>\n",
              "      <td>3.474</td>\n",
              "      <td>0.143</td>\n",
              "      <td>28.799</td>\n",
              "      <td>26.337</td>\n",
              "    </tr>\n",
              "    <tr>\n",
              "      <th>std</th>\n",
              "      <td>14826.401</td>\n",
              "      <td>32084.681</td>\n",
              "      <td>490.631</td>\n",
              "      <td>2.279</td>\n",
              "      <td>0.212</td>\n",
              "      <td>175.263</td>\n",
              "      <td>57.066</td>\n",
              "    </tr>\n",
              "    <tr>\n",
              "      <th>min</th>\n",
              "      <td>1.000</td>\n",
              "      <td>1040.000</td>\n",
              "      <td>0.444</td>\n",
              "      <td>1.000</td>\n",
              "      <td>0.000</td>\n",
              "      <td>-6599.978</td>\n",
              "      <td>0.000</td>\n",
              "    </tr>\n",
              "    <tr>\n",
              "      <th>25%</th>\n",
              "      <td>12795.500</td>\n",
              "      <td>22980.000</td>\n",
              "      <td>30.720</td>\n",
              "      <td>2.000</td>\n",
              "      <td>0.000</td>\n",
              "      <td>0.000</td>\n",
              "      <td>2.610</td>\n",
              "    </tr>\n",
              "    <tr>\n",
              "      <th>50%</th>\n",
              "      <td>25643.000</td>\n",
              "      <td>56560.000</td>\n",
              "      <td>85.246</td>\n",
              "      <td>3.000</td>\n",
              "      <td>0.000</td>\n",
              "      <td>9.200</td>\n",
              "      <td>7.790</td>\n",
              "    </tr>\n",
              "    <tr>\n",
              "      <th>75%</th>\n",
              "      <td>38512.500</td>\n",
              "      <td>90008.000</td>\n",
              "      <td>251.053</td>\n",
              "      <td>5.000</td>\n",
              "      <td>0.200</td>\n",
              "      <td>36.812</td>\n",
              "      <td>24.490</td>\n",
              "    </tr>\n",
              "    <tr>\n",
              "      <th>max</th>\n",
              "      <td>51290.000</td>\n",
              "      <td>99301.000</td>\n",
              "      <td>22638.480</td>\n",
              "      <td>14.000</td>\n",
              "      <td>0.850</td>\n",
              "      <td>8399.976</td>\n",
              "      <td>923.630</td>\n",
              "    </tr>\n",
              "  </tbody>\n",
              "</table>\n",
              "</div>\n",
              "      <button class=\"colab-df-convert\" onclick=\"convertToInteractive('df-9e8d413f-9a71-40f8-ae90-af9f907f0924')\"\n",
              "              title=\"Convert this dataframe to an interactive table.\"\n",
              "              style=\"display:none;\">\n",
              "        \n",
              "  <svg xmlns=\"http://www.w3.org/2000/svg\" height=\"24px\"viewBox=\"0 0 24 24\"\n",
              "       width=\"24px\">\n",
              "    <path d=\"M0 0h24v24H0V0z\" fill=\"none\"/>\n",
              "    <path d=\"M18.56 5.44l.94 2.06.94-2.06 2.06-.94-2.06-.94-.94-2.06-.94 2.06-2.06.94zm-11 1L8.5 8.5l.94-2.06 2.06-.94-2.06-.94L8.5 2.5l-.94 2.06-2.06.94zm10 10l.94 2.06.94-2.06 2.06-.94-2.06-.94-.94-2.06-.94 2.06-2.06.94z\"/><path d=\"M17.41 7.96l-1.37-1.37c-.4-.4-.92-.59-1.43-.59-.52 0-1.04.2-1.43.59L10.3 9.45l-7.72 7.72c-.78.78-.78 2.05 0 2.83L4 21.41c.39.39.9.59 1.41.59.51 0 1.02-.2 1.41-.59l7.78-7.78 2.81-2.81c.8-.78.8-2.07 0-2.86zM5.41 20L4 18.59l7.72-7.72 1.47 1.35L5.41 20z\"/>\n",
              "  </svg>\n",
              "      </button>\n",
              "      \n",
              "  <style>\n",
              "    .colab-df-container {\n",
              "      display:flex;\n",
              "      flex-wrap:wrap;\n",
              "      gap: 12px;\n",
              "    }\n",
              "\n",
              "    .colab-df-convert {\n",
              "      background-color: #E8F0FE;\n",
              "      border: none;\n",
              "      border-radius: 50%;\n",
              "      cursor: pointer;\n",
              "      display: none;\n",
              "      fill: #1967D2;\n",
              "      height: 32px;\n",
              "      padding: 0 0 0 0;\n",
              "      width: 32px;\n",
              "    }\n",
              "\n",
              "    .colab-df-convert:hover {\n",
              "      background-color: #E2EBFA;\n",
              "      box-shadow: 0px 1px 2px rgba(60, 64, 67, 0.3), 0px 1px 3px 1px rgba(60, 64, 67, 0.15);\n",
              "      fill: #174EA6;\n",
              "    }\n",
              "\n",
              "    [theme=dark] .colab-df-convert {\n",
              "      background-color: #3B4455;\n",
              "      fill: #D2E3FC;\n",
              "    }\n",
              "\n",
              "    [theme=dark] .colab-df-convert:hover {\n",
              "      background-color: #434B5C;\n",
              "      box-shadow: 0px 1px 3px 1px rgba(0, 0, 0, 0.15);\n",
              "      filter: drop-shadow(0px 1px 2px rgba(0, 0, 0, 0.3));\n",
              "      fill: #FFFFFF;\n",
              "    }\n",
              "  </style>\n",
              "\n",
              "      <script>\n",
              "        const buttonEl =\n",
              "          document.querySelector('#df-9e8d413f-9a71-40f8-ae90-af9f907f0924 button.colab-df-convert');\n",
              "        buttonEl.style.display =\n",
              "          google.colab.kernel.accessAllowed ? 'block' : 'none';\n",
              "\n",
              "        async function convertToInteractive(key) {\n",
              "          const element = document.querySelector('#df-9e8d413f-9a71-40f8-ae90-af9f907f0924');\n",
              "          const dataTable =\n",
              "            await google.colab.kernel.invokeFunction('convertToInteractive',\n",
              "                                                     [key], {});\n",
              "          if (!dataTable) return;\n",
              "\n",
              "          const docLinkHtml = 'Like what you see? Visit the ' +\n",
              "            '<a target=\"_blank\" href=https://colab.research.google.com/notebooks/data_table.ipynb>data table notebook</a>'\n",
              "            + ' to learn more about interactive tables.';\n",
              "          element.innerHTML = '';\n",
              "          dataTable['output_type'] = 'display_data';\n",
              "          await google.colab.output.renderOutput(dataTable, element);\n",
              "          const docLink = document.createElement('div');\n",
              "          docLink.innerHTML = docLinkHtml;\n",
              "          element.appendChild(docLink);\n",
              "        }\n",
              "      </script>\n",
              "    </div>\n",
              "  </div>\n",
              "  "
            ]
          },
          "metadata": {},
          "execution_count": 34
        }
      ]
    },
    {
      "cell_type": "markdown",
      "source": [
        "### Drop unnecessary columns"
      ],
      "metadata": {
        "id": "Ix_Ejx6eCTYf"
      }
    },
    {
      "cell_type": "code",
      "source": [
        "data.columns"
      ],
      "metadata": {
        "colab": {
          "base_uri": "https://localhost:8080/"
        },
        "id": "boa2o0pk5xw2",
        "outputId": "d45a2a24-401d-4064-8724-b79f41fcd81a"
      },
      "execution_count": 35,
      "outputs": [
        {
          "output_type": "execute_result",
          "data": {
            "text/plain": [
              "Index(['Row ID', 'Order ID', 'Order Date', 'Ship Date', 'Ship Mode',\n",
              "       'Customer ID', 'Customer Name', 'Segment', 'City', 'State', 'Country',\n",
              "       'Postal Code', 'Market', 'Region', 'Product ID', 'Category',\n",
              "       'Sub-Category', 'Product Name', 'Sales', 'Quantity', 'Discount',\n",
              "       'Profit', 'Shipping Cost', 'Order Priority'],\n",
              "      dtype='object')"
            ]
          },
          "metadata": {},
          "execution_count": 35
        }
      ]
    },
    {
      "cell_type": "code",
      "source": [
        "data=data.drop(['Row ID', 'Order ID','Customer ID','Postal Code'],axis=1)"
      ],
      "metadata": {
        "id": "nC19wBgyCakq"
      },
      "execution_count": 36,
      "outputs": []
    },
    {
      "cell_type": "code",
      "source": [
        "data.columns"
      ],
      "metadata": {
        "colab": {
          "base_uri": "https://localhost:8080/"
        },
        "id": "VS2x3i2jCqMk",
        "outputId": "3aaad972-e2eb-4c18-cb5d-1e0156f04d0e"
      },
      "execution_count": 37,
      "outputs": [
        {
          "output_type": "execute_result",
          "data": {
            "text/plain": [
              "Index(['Order Date', 'Ship Date', 'Ship Mode', 'Customer Name', 'Segment',\n",
              "       'City', 'State', 'Country', 'Market', 'Region', 'Product ID',\n",
              "       'Category', 'Sub-Category', 'Product Name', 'Sales', 'Quantity',\n",
              "       'Discount', 'Profit', 'Shipping Cost', 'Order Priority'],\n",
              "      dtype='object')"
            ]
          },
          "metadata": {},
          "execution_count": 37
        }
      ]
    },
    {
      "cell_type": "code",
      "source": [
        "# Hypothesis 1: Technology products have the highest profit margin compared to other product categories.\n",
        "# Hypothesis 2: The East region has the highest sales compared to other regions.\n",
        "# Hypothesis 3: Sales are higher during certain months of the year.\n",
        "# Hypothesis 4: Orders with same-day shipping have the lowest rate of returned products.\n",
        "# Hypothesis 5: The company's profit is more on weekdays than on weekends."
      ],
      "metadata": {
        "id": "F0i9BpUaCsT9"
      },
      "execution_count": null,
      "outputs": []
    },
    {
      "cell_type": "markdown",
      "source": [
        "## # Hypothesis 1: Technology products have the highest profit margin compared to other product categories."
      ],
      "metadata": {
        "id": "tJxE-aX6CyuP"
      }
    },
    {
      "cell_type": "code",
      "source": [
        "data.columns"
      ],
      "metadata": {
        "colab": {
          "base_uri": "https://localhost:8080/"
        },
        "id": "plwxg26OCsgA",
        "outputId": "e4648e26-fbc9-4ea6-b6f9-b4babb735ae8"
      },
      "execution_count": 38,
      "outputs": [
        {
          "output_type": "execute_result",
          "data": {
            "text/plain": [
              "Index(['Order Date', 'Ship Date', 'Ship Mode', 'Customer Name', 'Segment',\n",
              "       'City', 'State', 'Country', 'Market', 'Region', 'Product ID',\n",
              "       'Category', 'Sub-Category', 'Product Name', 'Sales', 'Quantity',\n",
              "       'Discount', 'Profit', 'Shipping Cost', 'Order Priority'],\n",
              "      dtype='object')"
            ]
          },
          "metadata": {},
          "execution_count": 38
        }
      ]
    },
    {
      "cell_type": "code",
      "source": [
        "cat_profit=data.groupby('Category')['Profit'].sum()\n",
        "cat_profit.plot(kind='bar')\n",
        "plt.title(\"Profit by Category\")\n",
        "plt.xlabel(\"Category\")\n",
        "plt.ylabel(\"Total Profit\")\n",
        "plt.show()\n"
      ],
      "metadata": {
        "colab": {
          "base_uri": "https://localhost:8080/",
          "height": 562
        },
        "id": "wn6mko98Csj4",
        "outputId": "35ce4463-a552-41a1-ff20-91597ad2acd9"
      },
      "execution_count": 39,
      "outputs": [
        {
          "output_type": "display_data",
          "data": {
            "text/plain": [
              "<Figure size 640x480 with 1 Axes>"
            ],
            "image/png": "[encoded data removed]"
          },
          "metadata": {}
        }
      ]
    },
    {
      "cell_type": "markdown",
      "source": [
        " **Conclusion :** The hypothesis is supported as technology products have the highest profit margin of the three categories."
      ],
      "metadata": {
        "id": "hIjM8HnNC-rG"
      }
    },
    {
      "cell_type": "markdown",
      "source": [
        "## Hypothesis 2: The East region has the highest sales compared to other regions."
      ],
      "metadata": {
        "id": "L05WRE1LDL9S"
      }
    },
    {
      "cell_type": "code",
      "source": [
        "reg_sales=data.groupby('Region')['Sales'].sum()\n",
        "reg_sales.plot(kind=\"bar\")\n",
        "plt.title(\"Total Sales by Region\")\n",
        "plt.xlabel(\"Region\")\n",
        "plt.ylabel(\"Total Sales\")\n",
        "plt.show()\n"
      ],
      "metadata": {
        "colab": {
          "base_uri": "https://localhost:8080/",
          "height": 561
        },
        "id": "lkbZjHcWDOcx",
        "outputId": "9c7a0b8d-2cae-4113-91ce-a5644d08bebe"
      },
      "execution_count": 40,
      "outputs": [
        {
          "output_type": "display_data",
          "data": {
            "text/plain": [
              "<Figure size 640x480 with 1 Axes>"
            ],
            "image/png": "[encoded data removed]"
          },
          "metadata": {}
        }
      ]
    },
    {
      "cell_type": "markdown",
      "source": [
        "**conclusion:** The hypothesis is not supported as the central region has\n",
        "the highest sales."
      ],
      "metadata": {
        "id": "DZq2lxAqDTtL"
      }
    },
    {
      "cell_type": "markdown",
      "source": [
        "## Hypothesis 3: Sales are higher during certain months of the year."
      ],
      "metadata": {
        "id": "-98sEIjcDamJ"
      }
    },
    {
      "cell_type": "code",
      "source": [
        "data['Order Month']=pd.DatetimeIndex(data['Order Date']).month\n",
        "\n",
        "month_sales=data.groupby('Order Month')['Sales'].sum()\n",
        "month_sales.plot(kind='line')\n",
        "plt.title(\"Total Sales by Month\")\n",
        "plt.xlabel(\"Month\")\n",
        "plt.ylabel(\"Total Sales\")\n",
        "plt.show()\n"
      ],
      "metadata": {
        "colab": {
          "base_uri": "https://localhost:8080/",
          "height": 472
        },
        "id": "eVd_cKkYDOfx",
        "outputId": "418de998-1582-4634-b8e8-9d826b3e2d9e"
      },
      "execution_count": 41,
      "outputs": [
        {
          "output_type": "display_data",
          "data": {
            "text/plain": [
              "<Figure size 640x480 with 1 Axes>"
            ],
            "image/png": "[encoded data removed]"
          },
          "metadata": {}
        }
      ]
    },
    {
      "cell_type": "markdown",
      "source": [
        "**conclusion :** Our Hypothesis is supported as sales are higher\n",
        "during certain months of the year."
      ],
      "metadata": {
        "id": "gZWpUYd5DoMb"
      }
    },
    {
      "cell_type": "markdown",
      "source": [
        "## Hypothesis 4: Orders with same-day shipping have the lowest rate of returned products."
      ],
      "metadata": {
        "id": "iXdiOPg_DssC"
      }
    },
    {
      "cell_type": "code",
      "source": [
        "total_orders_by_shipping_mode=data.groupby('Ship Mode').size()\n",
        "\n",
        "returned_orders_by_shipping_mode=data[data['Profit']<0].groupby('Ship Mode').size()\n",
        "\n",
        "returned_per_by_shipping_mode=(returned_orders_by_shipping_mode/total_orders_by_shipping_mode)*100\n",
        "print(returned_per_by_shipping_mode)\n",
        "returned_per_by_shipping_mode.plot(kind=\"bar\")\n",
        "plt.title(\"Return Per By Shipping Mode\")\n",
        "plt.xlabel(\"Shipping Mode\")\n",
        "plt.ylabel(\"Return Per\")\n",
        "plt.show()\n"
      ],
      "metadata": {
        "colab": {
          "base_uri": "https://localhost:8080/",
          "height": 666
        },
        "id": "RkU8szzNDOkA",
        "outputId": "09d2050b-9e1a-415a-e17d-557ca41025f5"
      },
      "execution_count": 42,
      "outputs": [
        {
          "output_type": "stream",
          "name": "stdout",
          "text": [
            "Ship Mode\n",
            "First Class      24.906\n",
            "Same Day         24.301\n",
            "Second Class     24.086\n",
            "Standard Class   24.541\n",
            "dtype: float64\n"
          ]
        },
        {
          "output_type": "display_data",
          "data": {
            "text/plain": [
              "<Figure size 640x480 with 1 Axes>"
            ],
            "image/png": "[encoded data removed]"
          },
          "metadata": {}
        }
      ]
    },
    {
      "cell_type": "markdown",
      "source": [
        "**Conclusion:** The hypothesis is supported as orders with same-day\n",
        "shipping have the lowest rate of returned products."
      ],
      "metadata": {
        "id": "c9VZST4LD4I2"
      }
    },
    {
      "cell_type": "markdown",
      "source": [
        "## Hypothesis 5: The company's profit is more on weekdays than on weekends."
      ],
      "metadata": {
        "id": "hxMNqcnlD9RP"
      }
    },
    {
      "cell_type": "code",
      "source": [
        "data['Order Day']=pd.DatetimeIndex(data['Order Date']).day_name()\n",
        "\n",
        "day_profit=data.groupby('Order Day')['Profit'].sum()\n",
        "day_profit.plot(kind=\"bar\")\n",
        "plt.title(\"Total Profit by the day of the week\")\n",
        "plt.xlabel(\"Day of the week\")\n",
        "plt.ylabel(\"Total Profit\")\n",
        "plt.show()\n"
      ],
      "metadata": {
        "colab": {
          "base_uri": "https://localhost:8080/",
          "height": 538
        },
        "id": "JZdFpUSQDOnR",
        "outputId": "dffdcbd7-51b8-4fb5-fde5-c4637e6f5c95"
      },
      "execution_count": 43,
      "outputs": [
        {
          "output_type": "display_data",
          "data": {
            "text/plain": [
              "<Figure size 640x480 with 1 Axes>"
            ],
            "image/png": "[encoded data removed]"
          },
          "metadata": {}
        }
      ]
    },
    {
      "cell_type": "markdown",
      "source": [
        "**conclusion:** The hypothesis is supported as company's profit\n",
        " is higher on weekdays compared to weekends."
      ],
      "metadata": {
        "id": "E2-HX4XKEGu7"
      }
    },
    {
      "cell_type": "code",
      "source": [],
      "metadata": {
        "id": "Z6Birc4rDOqY"
      },
      "execution_count": null,
      "outputs": []
    },
    {
      "cell_type": "code",
      "source": [],
      "metadata": {
        "id": "GaNEZ0y-DOtZ"
      },
      "execution_count": null,
      "outputs": []
    },
    {
      "cell_type": "code",
      "source": [],
      "metadata": {
        "id": "6EbJ0DguDOwY"
      },
      "execution_count": null,
      "outputs": []
    },
    {
      "cell_type": "code",
      "source": [],
      "metadata": {
        "id": "ETfRBx4hDOzZ"
      },
      "execution_count": null,
      "outputs": []
    },
    {
      "cell_type": "code",
      "source": [],
      "metadata": {
        "id": "65GiBaA-DO2B"
      },
      "execution_count": null,
      "outputs": []
    }
  ]
}